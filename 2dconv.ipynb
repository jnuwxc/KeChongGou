{
 "cells": [
  {
   "cell_type": "markdown",
   "metadata": {},
   "source": [
    "#  PYNQ 2DCONV"
   ]
  },
  {
   "cell_type": "markdown",
   "metadata": {},
   "source": [
    " Engineer:  :  Clancy lee\n",
    " \n",
    " NAME     : PYNQ Z1\n",
    " \n",
    " Data     : 2018.10.17\n",
    " \n",
    " School    : jiang nan university\n",
    " \n",
    " Design Name: 2DCONV --pynq z1\n",
    " \n",
    " Description : HLS Synthesis Code"
   ]
  },
  {
   "cell_type": "code",
   "execution_count": 2,
   "metadata": {},
   "outputs": [],
   "source": [
    "#==================================================\n",
    "#                Load overlay\n",
    "#=================================================\n",
    "from pynq import Overlay\n",
    "overlay = Overlay(\"/home/xilinx/jupyter_notebooks/2dconv/2dconv.bit\")\n",
    "overlay?"
   ]
  },
  {
   "cell_type": "code",
   "execution_count": 3,
   "metadata": {},
   "outputs": [
    {
     "data": {
      "text/plain": [
       "{'HW_2DConv_Mmap_1_0': {'addr_range': 65536,\n",
       "  'driver': pynq.overlay.DefaultIP,\n",
       "  'fullpath': 'HW_2DConv_Mmap_1_0',\n",
       "  'gpio': {},\n",
       "  'interrupts': {},\n",
       "  'phys_addr': 1136656384,\n",
       "  'state': None,\n",
       "  'type': 'xilinx.com:hls:HW_2DConv_Mmap_1:1.0'}}"
      ]
     },
     "execution_count": 3,
     "metadata": {},
     "output_type": "execute_result"
    }
   ],
   "source": [
    "#==================================================\n",
    "#                Load 2DConv IP\n",
    "#=================================================\n",
    "sobel_ip=overlay.HW_2DConv_Mmap_1_0 \n",
    "overlay.ip_dict"
   ]
  },
  {
   "cell_type": "code",
   "execution_count": 5,
   "metadata": {},
   "outputs": [
    {
     "name": "stdout",
     "output_type": "stream",
     "text": [
      "378011648\n",
      "377880576\n"
     ]
    }
   ],
   "source": [
    "#==================================================\n",
    "#                allocated  memory\n",
    "#=================================================\n",
    "from pynq import Xlnk\n",
    "import numpy as np\n",
    "   \n",
    "ROWS_O =270\n",
    "COLS_O =480\n",
    "FILTER_SIZE    = 3\n",
    "STRIDE         = 1\n",
    "ROWS_I         =  (ROWS_O*STRIDE+FILTER_SIZE-1)\n",
    "COLS_I         = (COLS_O*STRIDE+FILTER_SIZE-1)\n",
    "\n",
    "DATA_IN_SHMM_SIZE = (ROWS_I*COLS_I+FILTER_SIZE*FILTER_SIZE)\n",
    "DATA_OUT_SHMM_SIZE = (ROWS_O*COLS_O)\n",
    "IP_CONFIG_SHMM_SIZE  = 128\n",
    "\n",
    "\n",
    "xlnk = Xlnk()\n",
    "############## clean up #############\n",
    "xlnk.xlnk_reset()\n",
    "\n",
    "#allocated the memory  inbuff\n",
    "data_in = xlnk.cma_array(shape=(DATA_IN_SHMM_SIZE,), dtype=np.int8)\n",
    "DATA_IN_SHMM_BASE_ADDR= data_in.physical_address\n",
    "\n",
    "#allocated the memory  outbuff\n",
    "data_out = xlnk.cma_array(shape=(DATA_OUT_SHMM_SIZE,), dtype=np.int8)\n",
    "DATA_OUT_SHMM_BASE_ADDR=data_out.physical_address\n",
    "\n",
    "\n",
    "print(DATA_IN_SHMM_BASE_ADDR)\n",
    "print(DATA_OUT_SHMM_BASE_ADDR)\n"
   ]
  },
  {
   "cell_type": "code",
   "execution_count": null,
   "metadata": {},
   "outputs": [],
   "source": [
    "#==================================================\n",
    "#                wrtie data to data_in \n",
    "#=================================================\n",
    "import numpy as np\n",
    "FILTER_SIZE = 3\n",
    "filter = [[-1,-1,-1],[-1,0,1],[-1,-1,-1]]\n",
    "data_in_temp = np.zeros(DATA_IN_SHMM_SIZE,dtype = np.int8)\n",
    "print(\"Initialize input data......\\n\")\n",
    "for i in range (0,ROWS_I):\n",
    "    for j in range(0,COLS_I):\n",
    "        if(i<ROWS_O and j<COLS_O): data_in_temp[i*COLS_I+j]  = j\n",
    "        else: data_in_temp[i*COLS_I+j] =  0    #pixels out of boundary are filled with 0\n",
    "np.copyto(data_in,data_in_temp)\n",
    "print(\"Completed!\\n\")\n",
    "np.savetxt('data_in.txt',data_in)\n",
    "\n",
    "#input_tmp_img = np.loadtxt('yolo_input_tmp_mem_1.txt', dtype= 'uint')"
   ]
  },
  {
   "cell_type": "code",
   "execution_count": null,
   "metadata": {},
   "outputs": [],
   "source": [
    "#==================================================\n",
    "#               filter\n",
    "#=================================================\n",
    "print(\"Filter:\\n\")\n",
    "for  i in  range(0,FILTER_SIZE):\n",
    "    for j in  range(0,FILTER_SIZE):\n",
    "            data_in[ROWS_I*COLS_I + i*FILTER_SIZE+j] = filter[i][j]\n"
   ]
  },
  {
   "cell_type": "code",
   "execution_count": null,
   "metadata": {},
   "outputs": [],
   "source": [
    "#==================================================\n",
    "#           [FPGA] Run 2D convolution hw Ex\n",
    "#=================================================\n",
    "from pynq import MMIO\n",
    "import time\n",
    "IP_BASE_ADDRESS        =  0x43C00000\n",
    "ADDRESS_RANGE          =  1000\n",
    "DATA_IN_BASE_ADDR_REG  =  0x10\n",
    "DATA_OUT_BASE_ADDR_REG =  0x18\n",
    "AP_CTRL_REG            =  0x00\n",
    "AP_START               =  0x01\n",
    "AP_DONE                =  0x02\n",
    "mmio = MMIO(IP_BASE_ADDRESS,ADDRESS_RANGE)\n",
    "start = time.time()\n",
    "mmio.write(DATA_IN_BASE_ADDR_REG,DATA_IN_SHMM_BASE_ADDR)\n",
    "mmio.write(DATA_OUT_BASE_ADDR_REG,DATA_OUT_SHMM_BASE_ADDR)\n",
    "mmio.write(AP_CTRL_REG,AP_START)\n",
    "while True:\n",
    "    if(mmio.read(AP_CTRL_REG)&AP_DONE!=AP_DONE):    \n",
    "        break\n",
    "\n",
    "stop = time.time()\n",
    "time_2dconv_fpga = stop - start\n",
    "print(\"2Dconv FPGA time:\",time_2dconv_fpga)\n",
    "print(\"FPGA Accelerate Completed!\\n\")\n",
    "np.savetxt('data_out.txt',data_out)\n",
    "data_out"
   ]
  },
  {
   "cell_type": "code",
   "execution_count": null,
   "metadata": {},
   "outputs": [],
   "source": []
  },
  {
   "cell_type": "code",
   "execution_count": null,
   "metadata": {},
   "outputs": [],
   "source": []
  }
 ],
 "metadata": {
  "kernelspec": {
   "display_name": "Python 3",
   "language": "python",
   "name": "python3"
  },
  "language_info": {
   "codemirror_mode": {
    "name": "ipython",
    "version": 3
   },
   "file_extension": ".py",
   "mimetype": "text/x-python",
   "name": "python",
   "nbconvert_exporter": "python",
   "pygments_lexer": "ipython3",
   "version": "3.6.0"
  }
 },
 "nbformat": 4,
 "nbformat_minor": 2
}
